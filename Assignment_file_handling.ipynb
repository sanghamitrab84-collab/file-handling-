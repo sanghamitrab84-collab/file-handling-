{
  "nbformat": 4,
  "nbformat_minor": 0,
  "metadata": {
    "colab": {
      "provenance": []
    },
    "kernelspec": {
      "name": "python3",
      "display_name": "Python 3"
    },
    "language_info": {
      "name": "python"
    }
  },
  "cells": [
    {
      "cell_type": "code",
      "execution_count": 9,
      "metadata": {
        "id": "9Ap2jZfbnquD"
      },
      "outputs": [],
      "source": []
    },
    {
      "cell_type": "markdown",
      "source": [
        "1.What is the difference between interpreted and compiled languages?\n",
        "\n",
        "     – Interpreted languages execute code line by line at runtime; compiled languages translate code into machine code before execution.\n",
        "2.What is exception handling in Python?\n",
        "\n",
        "      -Exception handling in Python is a mechanism to handle runtime errors without stopping program execution.\n",
        "3.What is the purpose of the finally block in exception handling?\n",
        "\n",
        "      -Purpose of the finally block – Executes cleanup code regardless of whether an exception occurred.\n",
        "4.What is logging in Python?\n",
        "\n",
        "      -Logging in Python is recording program events for debugging or monitoring.\n",
        "5.What is the significance of the __del__ method in Python?\n",
        "\n",
        "      -Significance of __del__ method is a Destructor called when an object is about to be destroyed.\n",
        "6.What is the difference between import and from ... import in Python?\n",
        "\n",
        "      -Difference between import and from ... import is that import loads the whole module; from ... import loads specific objects.\n",
        "7.How can you handle multiple exceptions in Python?\n",
        "\n",
        "      -To handle multiple exceptions use multiple except clauses or tuple of exceptions in one except.\n",
        "8.What is the purpose of the with statement when handling files in Python?\n",
        "\n",
        "      -with Statement automatically closes the file after operations.\n",
        "9.What is the difference between multithreading and multiprocessing?\n",
        "\n",
        "      -Multithreading vs Multiprocessing, Multithreading shares memory in one process; multiprocessing uses separate processes.\n",
        "10.What are the advantages of using logging in a program?\n",
        "\n",
        "      -Advantages of Logging helps debug, trace errors, and monitor program flow.\n",
        "11.What is memory management in Python?\n",
        "\n",
        "      -Memory Management is a Automatic memory allocation and cleanup using garbage collection.\n",
        "12.What are the basic steps involved in exception handling in Python?\n",
        "\n",
        "      -Steps in Exception Handling are try, except, optional else, and finally.\n",
        "13.Why is memory management important in Python?\n",
        "\n",
        "      -Importance of Memory Management is that it Prevents memory leaks and improves efficiency.\n",
        "14.What is the role of try and except in exception handling?\n",
        "\n",
        "      -Role of try and except is try encloses risky code; except handles errors.\n",
        "15.How does Python's garbage collection system work?\n",
        "\n",
        "      -Garbage Collection  Frees memory of unused objects via reference counting and cyclic GC.\n",
        "16.What is the purpose of the else block in exception handling?\n",
        "\n",
        "      -else Block in Exception Handling  Runs if no exception occurs in try.\n",
        "17.What are the common logging levels in Python?\n",
        "\n",
        "      -Logging Levels are DEBUG, INFO, WARNING, ERROR, CRITICAL.\n",
        "18.What is the difference between os.fork() and multiprocessing in Python?\n",
        "\n",
        "      -os.fork() vs Multiprocessing is that os.fork() creates a process at OS level (Unix); multiprocessing is cross-platform via Python’s API.\n",
        "19.What is the importance of closing a file in Python?\n",
        "\n",
        "      -Closing a File Saves data and releases system resources.\n",
        "20.What is the difference between file.read() and file.readline() in Python?\n",
        "\n",
        "      -read() vs readline() is that read() reads the whole file; readline() reads one line.\n",
        "21.What is the logging module in Python used for?\n",
        "\n",
        "      -Logging Module Use  Framework for tracking and recording events.\n",
        "22.What is the os module in Python used for in file handling?\n",
        "\n",
        "      -os Module in File Handling is used for File operations like create, delete, rename, and path handling.\n",
        "23.What are the challenges associated with memory management in Python?\n",
        "\n",
        "      -Challenges in Memory Management is that Memory leaks, circular references, and fragmentation.\n",
        "24.How do you raise an exception manually in Python?\n",
        "\n",
        "      -Raise Exception Manually , Use raise ExceptionType(\"message\").\n",
        "25.Why is it important to use multithreading in certain applications?\n",
        "\n",
        "      -Importance of Multithreading is that it Improves responsiveness in I/O-bound applications.\n",
        "\n",
        "\n",
        "\n"
      ],
      "metadata": {
        "id": "boZAqGLqnsG8"
      }
    },
    {
      "cell_type": "markdown",
      "source": [
        "1.How can you open a file for writing in Python and write a string to it?"
      ],
      "metadata": {
        "id": "eBRgbsDpv_ea"
      }
    },
    {
      "cell_type": "code",
      "source": [
        "with open(\"example.txt\", \"w\") as f:\n",
        "    f.write(\"Hello, Python!\")"
      ],
      "metadata": {
        "id": "nDX41devwLyy"
      },
      "execution_count": 10,
      "outputs": []
    },
    {
      "cell_type": "markdown",
      "source": [
        "2.Write a Python program to read the contents of a file and print each line?"
      ],
      "metadata": {
        "id": "7GlI9uZywQA6"
      }
    },
    {
      "cell_type": "code",
      "source": [
        "with open(\"example.txt\", \"r\") as f:\n",
        "    for line in f:\n",
        "        print(line.strip())"
      ],
      "metadata": {
        "colab": {
          "base_uri": "https://localhost:8080/"
        },
        "id": "zR_Rgq3uwQjy",
        "outputId": "6bf948ff-4f95-4c24-c7ce-f5ab22a2e70c"
      },
      "execution_count": 11,
      "outputs": [
        {
          "output_type": "stream",
          "name": "stdout",
          "text": [
            "Hello, Python!\n"
          ]
        }
      ]
    },
    {
      "cell_type": "markdown",
      "source": [
        " 3.How would you handle a case where the file doesn't exist while trying to open it for reading"
      ],
      "metadata": {
        "id": "7FzJwP8fwRCa"
      }
    },
    {
      "cell_type": "code",
      "source": [
        "try:\n",
        "    with open(\"missing.txt\", \"r\") as f:\n",
        "        print(f.read())\n",
        "except FileNotFoundError:\n",
        "    print(\"File not found!\")"
      ],
      "metadata": {
        "colab": {
          "base_uri": "https://localhost:8080/"
        },
        "id": "ojbNLZrCwRzq",
        "outputId": "22f74ebf-f110-4eeb-e746-794e56ac5759"
      },
      "execution_count": 12,
      "outputs": [
        {
          "output_type": "stream",
          "name": "stdout",
          "text": [
            "File not found!\n"
          ]
        }
      ]
    },
    {
      "cell_type": "markdown",
      "source": [
        "4.Write a Python script that reads from one file and writes its content to another file"
      ],
      "metadata": {
        "id": "lpElHnGbwSVa"
      }
    },
    {
      "cell_type": "code",
      "source": [
        "with open(\"source.txt\", \"r\") as src,\n",
        "open(\"dest.txt\", \"w\") as dest:\n",
        "    dest.write(src.read())"
      ],
      "metadata": {
        "colab": {
          "base_uri": "https://localhost:8080/",
          "height": 110
        },
        "id": "BDAgOWutx9cS",
        "outputId": "e5f8d4a2-a00f-48bc-b591-79fa47a32802"
      },
      "execution_count": 13,
      "outputs": [
        {
          "output_type": "error",
          "ename": "SyntaxError",
          "evalue": "invalid syntax (ipython-input-1900838012.py, line 1)",
          "traceback": [
            "\u001b[0;36m  File \u001b[0;32m\"/tmp/ipython-input-1900838012.py\"\u001b[0;36m, line \u001b[0;32m1\u001b[0m\n\u001b[0;31m    with open(\"source.txt\", \"r\") as src,\u001b[0m\n\u001b[0m                                         ^\u001b[0m\n\u001b[0;31mSyntaxError\u001b[0m\u001b[0;31m:\u001b[0m invalid syntax\n"
          ]
        }
      ]
    },
    {
      "cell_type": "markdown",
      "source": [
        "5. How would you catch and handle division by zero error in Python?"
      ],
      "metadata": {
        "id": "G2WQl92ox9u6"
      }
    },
    {
      "cell_type": "code",
      "source": [
        "try:\n",
        "    result = 10 / 0\n",
        "except ZeroDivisionError:\n",
        "    print(\"Cannot divide by zero!\")"
      ],
      "metadata": {
        "colab": {
          "base_uri": "https://localhost:8080/"
        },
        "id": "3xB26-_Mx-U6",
        "outputId": "7e345278-9b0e-48ed-f602-4696b34ddcac"
      },
      "execution_count": 14,
      "outputs": [
        {
          "output_type": "stream",
          "name": "stdout",
          "text": [
            "Cannot divide by zero!\n"
          ]
        }
      ]
    },
    {
      "cell_type": "markdown",
      "source": [
        "6. Write a Python program that logs an error message to a log file when a division by zero exception occurs?"
      ],
      "metadata": {
        "id": "ww6N8pVbx_Qa"
      }
    },
    {
      "cell_type": "code",
      "source": [
        "import logging\n",
        "logging.basicConfig(filename=\"errors.log\", level=logging.ERROR)\n",
        "try:\n",
        "    5 / 0\n",
        "except ZeroDivisionError:\n",
        "    logging.error(\"Division by zero occurred\")"
      ],
      "metadata": {
        "colab": {
          "base_uri": "https://localhost:8080/"
        },
        "id": "S01PNJYfyR-b",
        "outputId": "b2cb1092-3189-4984-ed94-af2df5dd0504"
      },
      "execution_count": 15,
      "outputs": [
        {
          "output_type": "stream",
          "name": "stderr",
          "text": [
            "ERROR:root:Division by zero occurred\n"
          ]
        }
      ]
    },
    {
      "cell_type": "markdown",
      "source": [
        "7.How do you log information at different levels (INFO, ERROR, WARNING) in Python using the logging module?"
      ],
      "metadata": {
        "id": "364itAmaySRy"
      }
    },
    {
      "cell_type": "code",
      "source": [
        "import logging\n",
        "logging.basicConfig(filename=\"app.log\", level=logging.DEBUG)\n",
        "logging.info(\"This is an INFO message\")\n",
        "logging.warning(\"This is a WARNING\")\n",
        "logging.error(\"This is an ERROR\")"
      ],
      "metadata": {
        "colab": {
          "base_uri": "https://localhost:8080/"
        },
        "id": "xTi9Jy4ByXoh",
        "outputId": "bb83d0a1-50bf-44e8-acc8-c4a570904015"
      },
      "execution_count": 16,
      "outputs": [
        {
          "output_type": "stream",
          "name": "stderr",
          "text": [
            "WARNING:root:This is a WARNING\n",
            "ERROR:root:This is an ERROR\n"
          ]
        }
      ]
    },
    {
      "cell_type": "markdown",
      "source": [
        "8.Write a program to handle a file opening error using exception handling"
      ],
      "metadata": {
        "id": "VdM3o3EAyYDa"
      }
    },
    {
      "cell_type": "code",
      "source": [
        "try:\n",
        "    f = open(\"nonexistent.txt\", \"r\")\n",
        "except FileNotFoundError:\n",
        "    print(\"File not found!\")"
      ],
      "metadata": {
        "colab": {
          "base_uri": "https://localhost:8080/"
        },
        "id": "5HZ2qsnAydSC",
        "outputId": "6e0729a2-2ce6-4bde-d302-7ceb6ce8656b"
      },
      "execution_count": 17,
      "outputs": [
        {
          "output_type": "stream",
          "name": "stdout",
          "text": [
            "File not found!\n"
          ]
        }
      ]
    },
    {
      "cell_type": "markdown",
      "source": [
        "9.How can you read a file line by line and store its content in a list in Python"
      ],
      "metadata": {
        "id": "qj-1KNf_yeG1"
      }
    },
    {
      "cell_type": "code",
      "source": [
        "with open(\"example.txt\") as f:\n",
        "    lines = f.readlines()\n",
        "print(lines)"
      ],
      "metadata": {
        "colab": {
          "base_uri": "https://localhost:8080/"
        },
        "id": "iSfEG6BQynbC",
        "outputId": "13729a7a-f3bb-4622-88b6-18c0ee6cfdf3"
      },
      "execution_count": 18,
      "outputs": [
        {
          "output_type": "stream",
          "name": "stdout",
          "text": [
            "['Hello, Python!']\n"
          ]
        }
      ]
    },
    {
      "cell_type": "markdown",
      "source": [
        "10.How can you append data to an existing file in Python"
      ],
      "metadata": {
        "id": "Ov880hnGynsq"
      }
    },
    {
      "cell_type": "code",
      "source": [
        "with open(\"example.txt\", \"a\") as f:\n",
        "    f.write(\"\\nNew line added\")"
      ],
      "metadata": {
        "id": "4fjylOcTysqS"
      },
      "execution_count": 19,
      "outputs": []
    },
    {
      "cell_type": "markdown",
      "source": [
        "11. Write a Python program that uses a try-except block to handle an error when attempting to access a\n",
        "dictionary key that doesn't exist."
      ],
      "metadata": {
        "id": "jW8Aafp0ytKy"
      }
    },
    {
      "cell_type": "code",
      "source": [
        "data = {\"name\": \"John\"}\n",
        "try:\n",
        "    print(data[\"age\"])\n",
        "except KeyError:\n",
        "    print(\"Key not found!\")"
      ],
      "metadata": {
        "colab": {
          "base_uri": "https://localhost:8080/"
        },
        "id": "btbzedG0yyDx",
        "outputId": "527a5fee-2bef-4456-9f0b-40d6abb9e05f"
      },
      "execution_count": 20,
      "outputs": [
        {
          "output_type": "stream",
          "name": "stdout",
          "text": [
            "Key not found!\n"
          ]
        }
      ]
    },
    {
      "cell_type": "markdown",
      "source": [
        "12.Write a program that demonstrates using multiple except blocks to handle different types of exceptions"
      ],
      "metadata": {
        "id": "zV07_9Weyyia"
      }
    },
    {
      "cell_type": "code",
      "source": [
        "try:\n",
        "    lst = [1, 2, 3]\n",
        "    print(lst[5])\n",
        "except IndexError:\n",
        "    print(\"Index out of range!\")\n",
        "except KeyError:\n",
        "    print(\"Key not found!\")"
      ],
      "metadata": {
        "colab": {
          "base_uri": "https://localhost:8080/"
        },
        "id": "ddCCvJZMy3Xy",
        "outputId": "f1f18a9b-696b-410e-9d72-f403e9b3f042"
      },
      "execution_count": 21,
      "outputs": [
        {
          "output_type": "stream",
          "name": "stdout",
          "text": [
            "Index out of range!\n"
          ]
        }
      ]
    },
    {
      "cell_type": "markdown",
      "source": [
        "13.How would you check if a file exists before attempting to read it in Python?"
      ],
      "metadata": {
        "id": "MiAHt3zVydyK"
      }
    },
    {
      "cell_type": "code",
      "source": [
        "import os\n",
        "if os.path.exists(\"example.txt\"):\n",
        "    print(\"File exists\")\n",
        "else:\n",
        "    print(\"File not found\")"
      ],
      "metadata": {
        "colab": {
          "base_uri": "https://localhost:8080/"
        },
        "id": "KRrM-OdTzCha",
        "outputId": "c4cb1bde-e723-4f7b-ac19-0e7a90c4dfc2"
      },
      "execution_count": 22,
      "outputs": [
        {
          "output_type": "stream",
          "name": "stdout",
          "text": [
            "File exists\n"
          ]
        }
      ]
    },
    {
      "cell_type": "markdown",
      "source": [
        "14.Write a program that uses the logging module to log both informational and error messages."
      ],
      "metadata": {
        "id": "uhIoU-LYzDEy"
      }
    },
    {
      "cell_type": "code",
      "source": [
        "import logging\n",
        "logging.basicConfig(filename=\"app.log\", level=logging.INFO)\n",
        "logging.info(\"Program started\")\n",
        "try:\n",
        "    1 / 0\n",
        "except ZeroDivisionError:\n",
        "    logging.error(\"Division by zero error\")"
      ],
      "metadata": {
        "colab": {
          "base_uri": "https://localhost:8080/"
        },
        "id": "kGxJFsVpzHjC",
        "outputId": "b6eaa475-7984-46ee-d90f-e97af48ed89a"
      },
      "execution_count": 23,
      "outputs": [
        {
          "output_type": "stream",
          "name": "stderr",
          "text": [
            "ERROR:root:Division by zero error\n"
          ]
        }
      ]
    },
    {
      "cell_type": "markdown",
      "source": [
        "15.Write a Python program that prints the content of a file and handles the case when the file is empty"
      ],
      "metadata": {
        "id": "_1nJc6p4zIJa"
      }
    },
    {
      "cell_type": "code",
      "source": [
        "import os\n",
        "if os.path.getsize(\"example.txt\") == 0:\n",
        "    print(\"File is empty\")\n",
        "else:\n",
        "    with open(\"example.txt\") as f:\n",
        "        print(f.read())"
      ],
      "metadata": {
        "colab": {
          "base_uri": "https://localhost:8080/"
        },
        "id": "nUypsvlzzM1Z",
        "outputId": "92bb528a-3297-4dd5-d2f7-009319f3a47d"
      },
      "execution_count": 24,
      "outputs": [
        {
          "output_type": "stream",
          "name": "stdout",
          "text": [
            "Hello, Python!\n",
            "New line added\n"
          ]
        }
      ]
    },
    {
      "cell_type": "markdown",
      "source": [
        "16. Demonstrate how to use memory profiling to check the memory usage of a small program."
      ],
      "metadata": {
        "id": "rad0sA7LzNRJ"
      }
    },
    {
      "cell_type": "code",
      "source": [
        "from memory_profiler import profile\n",
        "\n",
        "@profile\n",
        "def test():\n",
        "    data = [i for i in range(100000)]\n",
        "    return data\n",
        "\n",
        "    test()"
      ],
      "metadata": {
        "id": "3lQR06hk_m6T"
      },
      "execution_count": 25,
      "outputs": []
    },
    {
      "cell_type": "markdown",
      "source": [
        "17.Write a Python program to create and write a list of numbers to a file, one number per line"
      ],
      "metadata": {
        "id": "lrEwLppD_nNx"
      }
    },
    {
      "cell_type": "code",
      "source": [
        "numbers = [1, 2, 3, 4, 5]\n",
        "with open(\"numbers.txt\", \"w\") as f:\n",
        "    for num in numbers:\n",
        "        f.write(f\"{num}\\n\")"
      ],
      "metadata": {
        "id": "qT7ANblc_tUe"
      },
      "execution_count": 26,
      "outputs": []
    },
    {
      "cell_type": "markdown",
      "source": [
        " 18.How would you implement a basic logging setup that logs to a file with rotation after 1MB"
      ],
      "metadata": {
        "id": "wAEptBf6_tjm"
      }
    },
    {
      "cell_type": "code",
      "source": [
        "import logging\n",
        "from logging.handlers import RotatingFileHandler\n",
        "\n",
        "handler = RotatingFileHandler(\"app.log\", maxBytes=1_000_000, backupCount=3)\n",
        "logging.basicConfig(handlers=[handler], level=logging.INFO)\n",
        "logging.info(\"Rotating log setup complete\")"
      ],
      "metadata": {
        "id": "rLogZ2Fp_3a1"
      },
      "execution_count": 27,
      "outputs": []
    },
    {
      "cell_type": "markdown",
      "source": [
        " 19.Write a program that handles both IndexError and KeyError using a try-except block."
      ],
      "metadata": {
        "id": "EOKBCKSK_38e"
      }
    },
    {
      "cell_type": "code",
      "source": [
        "try:\n",
        "    my_list = [1, 2]\n",
        "    print(my_list[5])\n",
        "except IndexError:\n",
        "    print(\"Index error!\")\n",
        "except KeyError:\n",
        "    print(\"Key error!\")"
      ],
      "metadata": {
        "colab": {
          "base_uri": "https://localhost:8080/"
        },
        "id": "sgEGLawt_6bR",
        "outputId": "fb563fb6-0906-474e-8150-dfa0d60ff25c"
      },
      "execution_count": 28,
      "outputs": [
        {
          "output_type": "stream",
          "name": "stdout",
          "text": [
            "Index error!\n"
          ]
        }
      ]
    },
    {
      "cell_type": "markdown",
      "source": [
        " 20.How would you open a file and read its contents using a context manager in Python"
      ],
      "metadata": {
        "id": "XDaG8QrQ_7-O"
      }
    },
    {
      "cell_type": "code",
      "source": [
        "with open(\"example.txt\", \"r\") as f:\n",
        "    print(f.read())"
      ],
      "metadata": {
        "colab": {
          "base_uri": "https://localhost:8080/"
        },
        "id": "s9NxZ4OyAEjb",
        "outputId": "f7fc8b4e-db33-4206-e976-f1a7fcb10d2e"
      },
      "execution_count": 29,
      "outputs": [
        {
          "output_type": "stream",
          "name": "stdout",
          "text": [
            "Hello, Python!\n",
            "New line added\n"
          ]
        }
      ]
    },
    {
      "cell_type": "markdown",
      "source": [
        "21.Write a Python program that reads a file and prints the number of occurrences of a specific word"
      ],
      "metadata": {
        "id": "yUsf0kP-AFEX"
      }
    },
    {
      "cell_type": "code",
      "source": [
        "word = \"Python\"\n",
        "with open(\"example.txt\") as f:\n",
        "    content = f.read()\n",
        "print(content.count(word))"
      ],
      "metadata": {
        "colab": {
          "base_uri": "https://localhost:8080/"
        },
        "id": "fb274EOxAJae",
        "outputId": "6261735c-04d0-4f73-b275-6a56dabc0e9f"
      },
      "execution_count": 30,
      "outputs": [
        {
          "output_type": "stream",
          "name": "stdout",
          "text": [
            "1\n"
          ]
        }
      ]
    },
    {
      "cell_type": "markdown",
      "source": [
        "22.How can you check if a file is empty before attempting to read its contents"
      ],
      "metadata": {
        "id": "p-y6VQ2uAJ0K"
      }
    },
    {
      "cell_type": "code",
      "source": [
        "import os\n",
        "if os.path.exists(\"example.txt\") and os.path.getsize(\"example.txt\") > 0:\n",
        "    with open(\"example.txt\") as f:\n",
        "        print(f.read())\n",
        "else:\n",
        "    print(\"File is empty or missing\")"
      ],
      "metadata": {
        "colab": {
          "base_uri": "https://localhost:8080/"
        },
        "id": "89cvD56UAKmA",
        "outputId": "0c22f404-cdca-4752-d1ff-132d326cd341"
      },
      "execution_count": 31,
      "outputs": [
        {
          "output_type": "stream",
          "name": "stdout",
          "text": [
            "Hello, Python!\n",
            "New line added\n"
          ]
        }
      ]
    },
    {
      "cell_type": "markdown",
      "source": [
        "23.Write a Python program that writes to a log file when an error occurs during file handling"
      ],
      "metadata": {
        "id": "-BDsxxUIAK22"
      }
    },
    {
      "cell_type": "code",
      "source": [
        "import logging\n",
        "logging.basicConfig(filename=\"file_errors.log\", level=logging.ERROR)\n",
        "try:\n",
        "    with open(\"missing.txt\") as f:\n",
        "        print(f.read())\n",
        "except FileNotFoundError as e:\n",
        "    logging.error(f\"File error: {e}\")"
      ],
      "metadata": {
        "id": "qfNlAkZdIw5H",
        "outputId": "230e7585-3d66-4bb4-c112-d63396ab29b3",
        "colab": {
          "base_uri": "https://localhost:8080/"
        }
      },
      "execution_count": 32,
      "outputs": [
        {
          "output_type": "stream",
          "name": "stderr",
          "text": [
            "ERROR:root:File error: [Errno 2] No such file or directory: 'missing.txt'\n"
          ]
        }
      ]
    }
  ]
}